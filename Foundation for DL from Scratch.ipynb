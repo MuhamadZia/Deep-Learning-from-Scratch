{
 "cells": [
  {
   "cell_type": "code",
   "execution_count": 1,
   "id": "9757ab8a-1e59-4783-89ae-3ae1d1632930",
   "metadata": {},
   "outputs": [],
   "source": [
    "import matplotlib.pyplot as plt\n",
    "import matplotlib\n",
    "import numpy as np\n",
    "from numpy import ndarray\n",
    "%matplotlib inline\n",
    "\n",
    "from typing import Callable\n",
    "from typing import Dict"
   ]
  },
  {
   "cell_type": "markdown",
   "id": "2e77f37b-6103-4653-9cf3-41480748865c",
   "metadata": {},
   "source": [
    "# Foundations"
   ]
  },
  {
   "cell_type": "markdown",
   "id": "09dc0f7d-cf34-4454-9214-006dd064f23c",
   "metadata": {},
   "source": [
    "## Basic Function"
   ]
  },
  {
   "cell_type": "code",
   "execution_count": 2,
   "id": "e04d3216-ad7a-49ed-a907-26ce18a015b2",
   "metadata": {},
   "outputs": [],
   "source": [
    "def square(x: ndarray) -> ndarray:\n",
    "    '''\n",
    "    Square each element in the input ndarray.\n",
    "    '''\n",
    "    return np.power(x, 2)\n",
    "\n",
    "def leaky_relu(x: ndarray) -> ndarray:\n",
    "    '''\n",
    "    Apply \"Leaky ReLU\" function to each element in ndarray\n",
    "    '''\n",
    "    return np.maximum(0.2 * x, x)"
   ]
  },
  {
   "cell_type": "code",
   "execution_count": 3,
   "id": "43f34d08-0926-420f-a3ec-175d3b923e49",
   "metadata": {},
   "outputs": [
    {
     "data": {
      "text/plain": [
       "array([1, 4], dtype=int32)"
      ]
     },
     "execution_count": 3,
     "metadata": {},
     "output_type": "execute_result"
    }
   ],
   "source": [
    "square(np.array([1,2]))"
   ]
  },
  {
   "cell_type": "markdown",
   "id": "c74558d0-e005-4d78-908e-47cce781b417",
   "metadata": {
    "tags": []
   },
   "source": [
    "## Deriv"
   ]
  },
  {
   "cell_type": "code",
   "execution_count": 4,
   "id": "8352e9ca-506b-41d0-a97c-75fed2a6c510",
   "metadata": {},
   "outputs": [],
   "source": [
    "def deriv(func: Callable[[ndarray], ndarray],\n",
    "          input_: ndarray,\n",
    "          diff: float = 0.001) -> ndarray:\n",
    "    '''\n",
    "    Evaluates the derivative of a function \"func\" at every element in the \"input_\" array.\n",
    "    '''\n",
    "    return (func(input_ + diff) - func(input_ - diff)) / (2 * diff)"
   ]
  },
  {
   "cell_type": "markdown",
   "id": "d3968f80-875a-404a-a5f7-ddb51dc5724e",
   "metadata": {},
   "source": [
    "## Chain"
   ]
  },
  {
   "cell_type": "code",
   "execution_count": 5,
   "id": "b615573b-d861-4445-957f-5ed52023d0e5",
   "metadata": {},
   "outputs": [],
   "source": [
    "from typing import List"
   ]
  },
  {
   "cell_type": "code",
   "execution_count": 6,
   "id": "1455a562-17ae-4af4-ad51-157ca613a09e",
   "metadata": {},
   "outputs": [],
   "source": [
    "#Bentuk fungsi array berisi ndarray, ndarray\n",
    "Array_Function = Callable[[ndarray], ndarray]\n",
    "\n",
    "#List untuk menyampung kumpulan fungsi\n",
    "Chain = List[Array_Function]"
   ]
  },
  {
   "cell_type": "code",
   "execution_count": 7,
   "id": "e066ba13-3d7d-49a7-b66f-43315bf37054",
   "metadata": {},
   "outputs": [],
   "source": [
    "def chain_length_2(chain: Chain,\n",
    "                   x: ndarray) -> ndarray:\n",
    "    '''Evaluasi fungsi ada 2'''\n",
    "    assert len(chain) == 2, \\\n",
    "    \"fungsi harus ada 2\"\n",
    "    \n",
    "    f1 = chain[0]\n",
    "    f2 = chain[1]\n",
    "    \n",
    "    return f2(f1(x))"
   ]
  },
  {
   "cell_type": "markdown",
   "id": "6f8070ae-0288-4627-9afb-da265eff9b13",
   "metadata": {},
   "source": [
    "## Chain Derivative"
   ]
  },
  {
   "cell_type": "code",
   "execution_count": 8,
   "id": "fccc03dd-7fa5-4a8b-855d-05b41c955895",
   "metadata": {},
   "outputs": [],
   "source": [
    "def chain_deriv_2(chain: Chain,\n",
    "                  input_range: ndarray) -> ndarray:\n",
    "    '''\n",
    "    Uses the chain rule to compute the two nested function derivation:\n",
    "    d(f2(f1(x))) = df2(f1(x))*df1(x)\n",
    "    '''\n",
    "    \n",
    "    assert len(chain) == 2, \\\n",
    "    \"This function requires 'Chain' objects of length 2\"\n",
    "\n",
    "    assert input_range.ndim == 1, \\\n",
    "    \"Function requires a 1 dimensional ndarray as input_range\"\n",
    "    \n",
    "    f1 = chain[0]\n",
    "    f2 = chain[1]\n",
    "    \n",
    "    #df1(x)/dx\n",
    "    df1dx = deriv(f1, input_range)\n",
    "    \n",
    "    #df2(x)/df1(x)\n",
    "    df2df1 = deriv(f2, f1(input_range))\n",
    "    \n",
    "    #Multiply those derivations for satisfying chain rule\n",
    "    return df2df1*df1dx"
   ]
  },
  {
   "cell_type": "code",
   "execution_count": 9,
   "id": "dda62e2e-90c7-43fa-97cb-709b3e35333b",
   "metadata": {},
   "outputs": [],
   "source": [
    "def sigmoid(x: ndarray) -> ndarray:\n",
    "    '''\n",
    "    Apply the sigmoid function to each element in the input ndarray\n",
    "    '''\n",
    "    return 1/(1+np.exp(-x))"
   ]
  },
  {
   "cell_type": "code",
   "execution_count": 10,
   "id": "b865ed07-6f2f-4fd3-924b-90afc0ac4144",
   "metadata": {},
   "outputs": [],
   "source": [
    "def plot_chain(ax, \n",
    "               chain: Chain,\n",
    "               input_range: ndarray) -> ndarray:\n",
    "    '''\n",
    "    ax:matplotlib subplotting\n",
    "    '''\n",
    "    assert input_range.ndim == 1, \\\n",
    "    'the dim of input_range must 1'\n",
    "    \n",
    "    output_range = chain_length_2(chain, input_range)\n",
    "    ax.plot(input_range, output_range)"
   ]
  },
  {
   "cell_type": "code",
   "execution_count": 11,
   "id": "e3fef1ec-f23d-42ac-8d57-a61e9adaafaa",
   "metadata": {},
   "outputs": [],
   "source": [
    "def plot_chain_deriv(ax, \n",
    "               chain: Chain,\n",
    "               input_range: ndarray) -> ndarray:\n",
    "    '''\n",
    "    ax:matplotlib subplotting\n",
    "    '''\n",
    "    assert input_range.ndim == 1, \\\n",
    "    'the dim of input_range must 1'\n",
    "    \n",
    "    output_range = chain_deriv_2(chain, input_range)\n",
    "    ax.plot(input_range, output_range)"
   ]
  },
  {
   "cell_type": "code",
   "execution_count": 12,
   "id": "5ab1f966-eb4e-4ab8-b83b-5b188102585f",
   "metadata": {},
   "outputs": [
    {
     "data": {
      "image/png": "[encoded data removed]",
      "text/plain": [
       "<Figure size 1152x576 with 2 Axes>"
      ]
     },
     "metadata": {
      "needs_background": "light"
     },
     "output_type": "display_data"
    }
   ],
   "source": [
    "fig, ax = plt.subplots(1, 2, sharey=True, figsize=(16,8))\n",
    "\n",
    "chain_1 = [square, sigmoid]\n",
    "chain_2 = [sigmoid, square]\n",
    "\n",
    "plot_range = np.arange(-3, 3, 0.01)\n",
    "\n",
    "plot_chain(ax[0], chain_1, plot_range)\n",
    "plot_chain_deriv(ax[0], chain_1, plot_range)\n",
    "ax[0].legend(['$f(x)$','$\\\\frac{df}{dx}$'])\n",
    "ax[0].set_title(\"Function and Derivation for \\n$f(x) = sigmoid(square(x))$\")\n",
    "\n",
    "plot_chain(ax[1], chain_2, plot_range)\n",
    "plot_chain_deriv(ax[1], chain_2, plot_range)\n",
    "ax[1].legend(['$f(x)$','$\\\\frac{df}{dx}$'])\n",
    "ax[1].set_title(\"Function and Derivation for \\n$f(x) = square(sigmoid(x))$\")\n",
    "\n",
    "plt.show()"
   ]
  },
  {
   "cell_type": "markdown",
   "id": "dbda53aa-9376-49d2-8b08-c50b55a265b4",
   "metadata": {},
   "source": [
    "## Function with multiple inputs"
   ]
  },
  {
   "cell_type": "code",
   "execution_count": 13,
   "id": "8ccd1119-a37d-4376-ade6-0d9adc37762e",
   "metadata": {},
   "outputs": [],
   "source": [
    "def multiple_inputs_add(x: ndarray, \n",
    "                        y: ndarray,\n",
    "                        sigma: Array_Function) -> ndarray:\n",
    "    '''\n",
    "    x and y must same dim\n",
    "    '''\n",
    "    assert x.shape == y.shape\n",
    "    \n",
    "    a = x+y\n",
    "    return sigma(a)"
   ]
  },
  {
   "cell_type": "markdown",
   "id": "23b7289a-173e-4ed8-8860-6461f2967a9b",
   "metadata": {},
   "source": [
    "## Function with Multiple Vectors Input"
   ]
  },
  {
   "cell_type": "code",
   "execution_count": 14,
   "id": "a1910854-838e-4b45-8437-e050a9cdbd59",
   "metadata": {},
   "outputs": [],
   "source": [
    "def matmul_forward(X: ndarray, \n",
    "                   W: ndarray) -> ndarray:\n",
    "    assert X.shape[1] == W.shape[0]\n",
    "    N = np.dot(X, W)\n",
    "    return N"
   ]
  },
  {
   "cell_type": "markdown",
   "id": "4381064b-d398-4eba-ac40-6075b1283e8f",
   "metadata": {},
   "source": [
    "## Derivative of Functions and Their Derivatives: One step further\n",
    "N = w_1x_1 + ..."
   ]
  },
  {
   "cell_type": "code",
   "execution_count": 15,
   "id": "bc20f85c-01a7-4554-aa3f-d6fe9dd5e5ee",
   "metadata": {},
   "outputs": [],
   "source": [
    "def matmul_backward_first(X: ndarray, \n",
    "                          W: ndarray) -> ndarray:\n",
    "    dNdX = np.transpose(W, (1,0)) #row vector\n",
    "    return dNdX"
   ]
  },
  {
   "cell_type": "markdown",
   "id": "c2564a28-7b7b-41eb-aa67-cb6be5476691",
   "metadata": {},
   "source": [
    "## Vector Functions and Their Derivatives: One Step Further"
   ]
  },
  {
   "cell_type": "markdown",
   "id": "696c44f7-73be-47c0-9df0-b9c1ef691abc",
   "metadata": {},
   "source": [
    "$f(X,W) = \\sigma(\\nu(X,W))$"
   ]
  },
  {
   "cell_type": "code",
   "execution_count": 16,
   "id": "ec0353f5-7454-45e3-8ba0-f4a49afe387a",
   "metadata": {},
   "outputs": [],
   "source": [
    "def matrix_forward_extra(X: ndarray,\n",
    "                         W: ndarray, \n",
    "                         sigma: Array_Function) -> ndarray:\n",
    "    '''\n",
    "    Computes the forward pass of a function involving matrix \n",
    "    multiplication, one extra function\n",
    "    '''\n",
    "    \n",
    "    assert X.shape[1] == W.shape[0]\n",
    "    \n",
    "    # matrix multiplication\n",
    "    N = np.dot(X, W)\n",
    "    \n",
    "    # feeding the output of the matrix multiplication through sigma\n",
    "    S = sigma(N)\n",
    "    \n",
    "    return S"
   ]
  },
  {
   "cell_type": "markdown",
   "id": "ad50c50b-7004-433c-9965-868b526d3c40",
   "metadata": {},
   "source": [
    "## Vector Functions and Their Derivatives: The Backward Pass"
   ]
  },
  {
   "cell_type": "markdown",
   "id": "7739f792-62db-4bb8-9978-c873afd8ebd0",
   "metadata": {},
   "source": [
    "If $f(X,W) = \\sigma(\\nu(V,W))$, its derivative with respect to X shoud conceptually be:\n",
    "\n",
    "$\\frac{\\partial f}{\\partial X} = \\frac{\\partial \\sigma}{\\partial \\nu}.\\frac{\\partial \\nu}{\\partial X}$\n",
    "\n",
    "with $\\nu = w_1.x_1 + w_2.x_2 + ...$, we can describe more detail:\n",
    "\n",
    "$=> \\frac{\\partial \\nu}{\\partial X} = W^T$\n",
    "\n",
    "$=> \\frac{\\partial f}{\\partial X} = \\frac{\\partial \\sigma}{\\partial \\nu}.W^T$"
   ]
  },
  {
   "cell_type": "code",
   "execution_count": 18,
   "id": "b9d2fc6d-06ee-4530-8625-f5fe90b3572b",
   "metadata": {},
   "outputs": [],
   "source": [
    "def matrix_function_backward_1(X: ndarray, \n",
    "                               W: ndarray, \n",
    "                               sigma: Array_Function) -> ndarray:\n",
    "    '''\n",
    "    Computes the derivative of or matrix function with respect \n",
    "    to the first elemet\n",
    "    '''\n",
    "    \n",
    "    assert X.shape[1] == W.shape[0]\n",
    "    \n",
    "    # matrix multiplication\n",
    "    N = np.dot(X,W) # N is similiar to \\nu\n",
    "    \n",
    "    # feeding the output of the matrix multiplication through sigma\n",
    "    S = sigma(N)\n",
    "    \n",
    "    # backward calculation (d\\sigma/d\\nu)\n",
    "    dSdN = deriv(sigma, N)\n",
    "    \n",
    "    # d\\nudX or dN/dX\n",
    "    dNdX = np.transpose(W, (1,0))\n",
    "    \n",
    "    # multiply them together\n",
    "    return np.dot(dSdN, dNdX)"
   ]
  },
  {
   "cell_type": "markdown",
   "id": "6150c166-907c-4866-ba0e-c742f32893f2",
   "metadata": {},
   "source": [
    "## Computational Graph with Two 2D Matrix Inputs"
   ]
  },
  {
   "cell_type": "markdown",
   "id": "8eb332c4-ce26-4370-a513-128e5c693188",
   "metadata": {},
   "source": [
    "Example, we have:\n",
    "\n",
    "$X = \\begin{pmatrix}\n",
    "x_{11} &  x_{12} & x_{13}\\\\\n",
    "x_{21} & x_{22} & x_{23}\\\\\n",
    "x_{31} & x_{32} & x_{33}\n",
    "\\end{pmatrix}$\n",
    "\n",
    "and\n",
    "\n",
    "$W = \\begin{pmatrix}\n",
    "w_{11} &  w_{12} \\\\\n",
    "w_{21} & w_{22} \\\\\n",
    "w_{31} & w_{32} \n",
    "\\end{pmatrix}$\n",
    "\n",
    "multiply them :\n",
    "\n",
    "$X \\times W = \\begin{pmatrix}\n",
    "X_{1j}W_{i1} &  X_{1j}W_{i2}\\\\\n",
    "X_{2j}W_{i1} & X_{2j}W_{i2}\\\\\n",
    "X_{3j}W_{i1} & X_{3j}W_{i2}\n",
    "\\end{pmatrix}$\n",
    "\n",
    "We'll feed this result through $\\sigma$:\n",
    "\n",
    "$\\sigma(X \\times W) = \\begin{pmatrix}\n",
    "\\sigma(X_{1i}W_{i1}) &  \\sigma(X_{1i}W_{i2})\\\\\n",
    "\\sigma(X_{2i}W_{i1}) & \\sigma(X_{2i}W_{i2})\\\\\n",
    "\\sigma(X_{3i}W_{i1}) & \\sigma(X_{3i}W_{i2})\n",
    "\\end{pmatrix}$\n",
    "\n",
    "Let's we have Lambda function that simply the elements of $\\sigma$ and sums them up.\n",
    "\n",
    "$L = \\Lambda(\\sigma(X \\times W)) \\\\\n",
    "   = \\sigma(X_{1i}W_{i1}) +  \\sigma(X_{2i}W_{i1}) + \\sigma(X_{3i}W_{i1}) + \\sigma(X_{1i}W_{i2}) + \\sigma(X_{2i}W_{i2}) + \\sigma(X_{3i}W_{i2})$"
   ]
  },
  {
   "cell_type": "code",
   "execution_count": 19,
   "id": "212079ca-330c-4052-93a8-7f6bd9bd2d0a",
   "metadata": {},
   "outputs": [],
   "source": [
    "def matrix_function_forward_sum(X: ndarray, \n",
    "                                W: ndarray, \n",
    "                                sigma: Array_Function) -> ndarray:\n",
    "    '''\n",
    "    Compute the result of the forward pass of this function with \n",
    "    input ndarrays X and W and function sigma\n",
    "    '''\n",
    "    \n",
    "    assert X.shape[1] == W.shape[0]\n",
    "    \n",
    "    # matrix multiplication\n",
    "    N = np.dot(X, W)\n",
    "    \n",
    "    # feeding the output of the matrix multiplication through sigma\n",
    "    S = sigma(N)\n",
    "    \n",
    "    # sum all the elements\n",
    "    L = np.sum(S)\n",
    "    \n",
    "    return L"
   ]
  },
  {
   "cell_type": "code",
   "execution_count": null,
   "id": "fd5abdfd-d392-4ee5-ae08-17fc03aae0fb",
   "metadata": {},
   "outputs": [],
   "source": []
  }
 ],
 "metadata": {
  "kernelspec": {
   "display_name": "Python 3 (ipykernel)",
   "language": "python",
   "name": "python3"
  },
  "language_info": {
   "codemirror_mode": {
    "name": "ipython",
    "version": 3
   },
   "file_extension": ".py",
   "mimetype": "text/x-python",
   "name": "python",
   "nbconvert_exporter": "python",
   "pygments_lexer": "ipython3",
   "version": "3.9.12"
  }
 },
 "nbformat": 4,
 "nbformat_minor": 5
}
